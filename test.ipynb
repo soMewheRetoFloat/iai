{
 "cells": [
  {
   "cell_type": "code",
   "execution_count": 1,
   "metadata": {
    "ExecuteTime": {
     "end_time": "2024-04-25T05:38:43.261204Z",
     "start_time": "2024-04-25T05:38:40.823046Z"
    }
   },
   "source": [
    "import json\n",
    "\n",
    "import torch\n",
    "import torch.nn as nn\n",
    "import torch.nn.functional as F\n",
    "print(torch.cuda.is_available())\n",
    "print(torch.cuda.device_count())\n",
    "print(torch.version.cuda)"
   ],
   "outputs": []
  },
  {
   "cell_type": "code",
   "execution_count": null,
   "metadata": {},
   "source": [
    "class TextCNN(nn.Module):\n",
    "    def __init__(self, embedding_dim, num_filters, filter_sizes, output_dim, dropout):\n",
    "        super().__init__()\n",
    "        \n",
    "        self.embedding\n",
    "        \n",
    "        self.convs = nn.ModuleList([\n",
    "            nn.Conv2d(in_channels=1, out_channels=num_filters, kernel_size=(sz, embedding_dim)) \n",
    "            for sz in filter_sizes\n",
    "        ])"
   ],
   "outputs": []
  },
  {
   "cell_type": "code",
   "execution_count": 16,
   "metadata": {
    "ExecuteTime": {
     "end_time": "2024-04-25T05:55:39.440001Z",
     "start_time": "2024-04-25T05:55:37.244546Z"
    }
   },
   "source": [
    "import os, sys\n",
    "import json\n",
    "import numpy as np\n",
    "import re\n",
    "from gensim.models import KeyedVectors\n",
    "\n",
    "DataPath = \"./Dataset\"\n",
    "chinese_char_pattern = re.compile(r'^[\\u4E00-\\u9FFF]+$')\n",
    "\n",
    "# 判断中文字\n",
    "def is_chinese(words) -> bool:\n",
    "    return chinese_char_pattern.search(words) is not None\n",
    "\n",
    "# 导入词向量 vec_len = 50\n",
    "vec_len = 50\n",
    "vec_path = os.path.join(DataPath, \"wiki_word2vec_50.bin\")\n",
    "init_model = KeyedVectors.load_word2vec_format(vec_path, binary=True)\n",
    "\n",
    "# 字映射到数字\n",
    "# 向量折叠成tensor 之后的访问方式变为 w2v_vecs[key_to_index[\"煞\"]]\n",
    "key_to_index = init_model.key_to_index\n",
    "w2v_vecs = torch.from_numpy(init_model.vectors)"
   ],
   "outputs": []
  },
  {
   "cell_type": "code",
   "execution_count": 19,
   "metadata": {
    "ExecuteTime": {
     "end_time": "2024-04-25T10:22:19.553221Z",
     "start_time": "2024-04-25T10:22:19.515185Z"
    }
   },
   "source": [
    "pathx = \"train.txt\"\n",
    "corpus_path = os.path.join(DataPath, pathx)\n",
    "with open(corpus_path, 'r', encoding='utf-8') as f:\n",
    "    lines = f.readlines()\n",
    "    sentence = lines[380].strip().split()\n",
    "    arr_tmp = []\n",
    "    for w in sentence[1:]:\n",
    "        try:\n",
    "            arr_tmp.append(w2v_vecs[key_to_index[w]])\n",
    "        except KeyError:\n",
    "            pass\n",
    "    typ_content = np.asarray(arr_tmp)[:50]\n",
    "    print(typ_content.shape)\n",
    "    padding = max(50 - len(typ_content), 0)\n",
    "    # 全部制作为 50 * 50 矩阵\n",
    "    typ_content_1 = (np.pad(typ_content, ((0, padding), (0, 0))))\n",
    "    typ_content_2 = (np.pad(typ_content, ((0, padding), (0, 0))))\n",
    "    xx = np.concatenate((typ_content_1, typ_content_2), axis=0)\n",
    "    xx = np.delete(xx, 0, axis=0)\n",
    "    print(xx.shape)"
   ],
   "outputs": []
  },
  {
   "cell_type": "code",
   "metadata": {
    "ExecuteTime": {
     "end_time": "2024-04-26T02:47:18.148743Z",
     "start_time": "2024-04-26T02:47:18.142742Z"
    }
   },
   "source": [
    "import os, sys\n",
    "import shutil\n",
    "\n",
    "directory_paths = ['./saving/CNN', './saving/RNN_LSTM']\n",
    "\n",
    "# 检查目录是否存在\n",
    "for directory_path in directory_paths:\n",
    "    if os.path.isdir(directory_path):\n",
    "        # 删除目录及其所有内容\n",
    "        shutil.rmtree(directory_path)\n",
    "        print(f\"Directory {directory_path} and all its contents have been deleted.\")\n",
    "    else:\n",
    "        print(f\"Directory {directory_path} does not exist.\")\n",
    "    os.mkdir(directory_path)\n",
    "\n"
   ],
   "execution_count": 3,
   "outputs": []
  }
 ],
 "metadata": {
  "kernelspec": {
   "display_name": "mach",
   "language": "python",
   "name": "python3"
  },
  "language_info": {
   "codemirror_mode": {
    "name": "ipython",
    "version": 3
   },
   "file_extension": ".py",
   "mimetype": "text/x-python",
   "name": "python",
   "nbconvert_exporter": "python",
   "pygments_lexer": "ipython3",
   "version": "3.10.12"
  }
 },
 "nbformat": 4,
 "nbformat_minor": 2
}
